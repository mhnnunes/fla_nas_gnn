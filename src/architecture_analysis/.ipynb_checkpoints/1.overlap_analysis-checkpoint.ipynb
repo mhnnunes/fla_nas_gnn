{
 "cells": [
  {
   "cell_type": "code",
   "execution_count": 1,
   "metadata": {},
   "outputs": [],
   "source": [
    "import hashlib\n",
    "import pandas as pd\n",
    "import matplotlib.pyplot as plt"
   ]
  },
  {
   "cell_type": "code",
   "execution_count": 2,
   "metadata": {},
   "outputs": [],
   "source": [
    "df = pd.read_csv('dataset_architectures.csv')"
   ]
  },
  {
   "cell_type": "code",
   "execution_count": 3,
   "metadata": {},
   "outputs": [],
   "source": [
    "df.to_csv('dataset_archs_correctly_separated.csv', sep=';', index=False)"
   ]
  },
  {
   "cell_type": "code",
   "execution_count": 3,
   "metadata": {},
   "outputs": [
    {
     "data": {
      "text/html": [
       "<div>\n",
       "<style scoped>\n",
       "    .dataframe tbody tr th:only-of-type {\n",
       "        vertical-align: middle;\n",
       "    }\n",
       "\n",
       "    .dataframe tbody tr th {\n",
       "        vertical-align: top;\n",
       "    }\n",
       "\n",
       "    .dataframe thead th {\n",
       "        text-align: right;\n",
       "    }\n",
       "</style>\n",
       "<table border=\"1\" class=\"dataframe\">\n",
       "  <thead>\n",
       "    <tr style=\"text-align: right;\">\n",
       "      <th></th>\n",
       "      <th>mode</th>\n",
       "      <th>seed</th>\n",
       "      <th>dataset</th>\n",
       "      <th>optimizer</th>\n",
       "      <th>arch</th>\n",
       "      <th>val_score</th>\n",
       "      <th>test_score</th>\n",
       "    </tr>\n",
       "  </thead>\n",
       "  <tbody>\n",
       "    <tr>\n",
       "      <th>0</th>\n",
       "      <td>macro</td>\n",
       "      <td>10</td>\n",
       "      <td>cora</td>\n",
       "      <td>RL</td>\n",
       "      <td>['generalized_linear', 'mean', 'elu', 4, 128, ...</td>\n",
       "      <td>0.790</td>\n",
       "      <td>0.808</td>\n",
       "    </tr>\n",
       "    <tr>\n",
       "      <th>1</th>\n",
       "      <td>macro</td>\n",
       "      <td>10</td>\n",
       "      <td>cora</td>\n",
       "      <td>RL</td>\n",
       "      <td>['cos', 'mean', 'linear', 6, 256, 'gat', 'mlp'...</td>\n",
       "      <td>0.264</td>\n",
       "      <td>0.256</td>\n",
       "    </tr>\n",
       "    <tr>\n",
       "      <th>2</th>\n",
       "      <td>macro</td>\n",
       "      <td>10</td>\n",
       "      <td>cora</td>\n",
       "      <td>RL</td>\n",
       "      <td>['gcn', 'sum', 'relu', 2, 32, 'gat', 'sum', 'r...</td>\n",
       "      <td>0.806</td>\n",
       "      <td>0.826</td>\n",
       "    </tr>\n",
       "    <tr>\n",
       "      <th>3</th>\n",
       "      <td>macro</td>\n",
       "      <td>10</td>\n",
       "      <td>cora</td>\n",
       "      <td>RL</td>\n",
       "      <td>['gcn', 'mlp', 'tanh', 16, 8, 'gat', 'sum', 'r...</td>\n",
       "      <td>0.794</td>\n",
       "      <td>0.808</td>\n",
       "    </tr>\n",
       "    <tr>\n",
       "      <th>4</th>\n",
       "      <td>macro</td>\n",
       "      <td>10</td>\n",
       "      <td>cora</td>\n",
       "      <td>RL</td>\n",
       "      <td>['gcn', 'mlp', 'relu6', 1, 32, 'gat', 'sum', '...</td>\n",
       "      <td>0.776</td>\n",
       "      <td>0.793</td>\n",
       "    </tr>\n",
       "  </tbody>\n",
       "</table>\n",
       "</div>"
      ],
      "text/plain": [
       "    mode  seed dataset optimizer  \\\n",
       "0  macro    10    cora        RL   \n",
       "1  macro    10    cora        RL   \n",
       "2  macro    10    cora        RL   \n",
       "3  macro    10    cora        RL   \n",
       "4  macro    10    cora        RL   \n",
       "\n",
       "                                                arch  val_score  test_score  \n",
       "0  ['generalized_linear', 'mean', 'elu', 4, 128, ...      0.790       0.808  \n",
       "1  ['cos', 'mean', 'linear', 6, 256, 'gat', 'mlp'...      0.264       0.256  \n",
       "2  ['gcn', 'sum', 'relu', 2, 32, 'gat', 'sum', 'r...      0.806       0.826  \n",
       "3  ['gcn', 'mlp', 'tanh', 16, 8, 'gat', 'sum', 'r...      0.794       0.808  \n",
       "4  ['gcn', 'mlp', 'relu6', 1, 32, 'gat', 'sum', '...      0.776       0.793  "
      ]
     },
     "execution_count": 3,
     "metadata": {},
     "output_type": "execute_result"
    }
   ],
   "source": [
    "df.head()"
   ]
  },
  {
   "cell_type": "code",
   "execution_count": 4,
   "metadata": {},
   "outputs": [],
   "source": [
    "df['arch_hash'] = df['arch'].apply(lambda x: hashlib.md5(x.encode('utf-8')).digest())"
   ]
  },
  {
   "cell_type": "code",
   "execution_count": 5,
   "metadata": {},
   "outputs": [
    {
     "data": {
      "text/html": [
       "<div>\n",
       "<style scoped>\n",
       "    .dataframe tbody tr th:only-of-type {\n",
       "        vertical-align: middle;\n",
       "    }\n",
       "\n",
       "    .dataframe tbody tr th {\n",
       "        vertical-align: top;\n",
       "    }\n",
       "\n",
       "    .dataframe thead th {\n",
       "        text-align: right;\n",
       "    }\n",
       "</style>\n",
       "<table border=\"1\" class=\"dataframe\">\n",
       "  <thead>\n",
       "    <tr style=\"text-align: right;\">\n",
       "      <th></th>\n",
       "      <th>mode</th>\n",
       "      <th>seed</th>\n",
       "      <th>dataset</th>\n",
       "      <th>optimizer</th>\n",
       "      <th>arch</th>\n",
       "      <th>val_score</th>\n",
       "      <th>test_score</th>\n",
       "      <th>arch_hash</th>\n",
       "    </tr>\n",
       "  </thead>\n",
       "  <tbody>\n",
       "    <tr>\n",
       "      <th>0</th>\n",
       "      <td>macro</td>\n",
       "      <td>10</td>\n",
       "      <td>cora</td>\n",
       "      <td>RL</td>\n",
       "      <td>['generalized_linear', 'mean', 'elu', 4, 128, ...</td>\n",
       "      <td>0.790</td>\n",
       "      <td>0.808</td>\n",
       "      <td>b'\\x010\\xdc\\xe8M\\xe0\\xed&amp;9\\xc8\\xfbJ\\xcfI!\\xd1'</td>\n",
       "    </tr>\n",
       "    <tr>\n",
       "      <th>1</th>\n",
       "      <td>macro</td>\n",
       "      <td>10</td>\n",
       "      <td>cora</td>\n",
       "      <td>RL</td>\n",
       "      <td>['cos', 'mean', 'linear', 6, 256, 'gat', 'mlp'...</td>\n",
       "      <td>0.264</td>\n",
       "      <td>0.256</td>\n",
       "      <td>b'\\x96\\x8e.\\xa9]|dW\\x1a\\xd0\\x9cd\\xf0l\\xbb\\x99'</td>\n",
       "    </tr>\n",
       "    <tr>\n",
       "      <th>2</th>\n",
       "      <td>macro</td>\n",
       "      <td>10</td>\n",
       "      <td>cora</td>\n",
       "      <td>RL</td>\n",
       "      <td>['gcn', 'sum', 'relu', 2, 32, 'gat', 'sum', 'r...</td>\n",
       "      <td>0.806</td>\n",
       "      <td>0.826</td>\n",
       "      <td>b'&gt;\\xd4o\\x9br\\xa0\\xfcB\\xa3\\x0e\\xa2!\\xe7\\x8b\\xc...</td>\n",
       "    </tr>\n",
       "    <tr>\n",
       "      <th>3</th>\n",
       "      <td>macro</td>\n",
       "      <td>10</td>\n",
       "      <td>cora</td>\n",
       "      <td>RL</td>\n",
       "      <td>['gcn', 'mlp', 'tanh', 16, 8, 'gat', 'sum', 'r...</td>\n",
       "      <td>0.794</td>\n",
       "      <td>0.808</td>\n",
       "      <td>b'\\xc7&gt;[\\xd2\\xce]2B\\x1b\\xa3f\\xcc\\xb4\\xd0\\xa7\\x08'</td>\n",
       "    </tr>\n",
       "    <tr>\n",
       "      <th>4</th>\n",
       "      <td>macro</td>\n",
       "      <td>10</td>\n",
       "      <td>cora</td>\n",
       "      <td>RL</td>\n",
       "      <td>['gcn', 'mlp', 'relu6', 1, 32, 'gat', 'sum', '...</td>\n",
       "      <td>0.776</td>\n",
       "      <td>0.793</td>\n",
       "      <td>b'\\xdb\\x86`r5\\xc5\\x9c\\xb2\\xa9\\xeeHf\\xf3&lt;\\x00\\xe4'</td>\n",
       "    </tr>\n",
       "  </tbody>\n",
       "</table>\n",
       "</div>"
      ],
      "text/plain": [
       "    mode  seed dataset optimizer  \\\n",
       "0  macro    10    cora        RL   \n",
       "1  macro    10    cora        RL   \n",
       "2  macro    10    cora        RL   \n",
       "3  macro    10    cora        RL   \n",
       "4  macro    10    cora        RL   \n",
       "\n",
       "                                                arch  val_score  test_score  \\\n",
       "0  ['generalized_linear', 'mean', 'elu', 4, 128, ...      0.790       0.808   \n",
       "1  ['cos', 'mean', 'linear', 6, 256, 'gat', 'mlp'...      0.264       0.256   \n",
       "2  ['gcn', 'sum', 'relu', 2, 32, 'gat', 'sum', 'r...      0.806       0.826   \n",
       "3  ['gcn', 'mlp', 'tanh', 16, 8, 'gat', 'sum', 'r...      0.794       0.808   \n",
       "4  ['gcn', 'mlp', 'relu6', 1, 32, 'gat', 'sum', '...      0.776       0.793   \n",
       "\n",
       "                                           arch_hash  \n",
       "0     b'\\x010\\xdc\\xe8M\\xe0\\xed&9\\xc8\\xfbJ\\xcfI!\\xd1'  \n",
       "1     b'\\x96\\x8e.\\xa9]|dW\\x1a\\xd0\\x9cd\\xf0l\\xbb\\x99'  \n",
       "2  b'>\\xd4o\\x9br\\xa0\\xfcB\\xa3\\x0e\\xa2!\\xe7\\x8b\\xc...  \n",
       "3  b'\\xc7>[\\xd2\\xce]2B\\x1b\\xa3f\\xcc\\xb4\\xd0\\xa7\\x08'  \n",
       "4  b'\\xdb\\x86`r5\\xc5\\x9c\\xb2\\xa9\\xeeHf\\xf3<\\x00\\xe4'  "
      ]
     },
     "execution_count": 5,
     "metadata": {},
     "output_type": "execute_result"
    }
   ],
   "source": [
    "df.head()"
   ]
  },
  {
   "cell_type": "code",
   "execution_count": 6,
   "metadata": {},
   "outputs": [],
   "source": [
    "grouped_archs = df.drop(columns=['arch']).groupby(['arch_hash', 'mode', 'seed', 'dataset']).describe()"
   ]
  },
  {
   "cell_type": "code",
   "execution_count": 11,
   "metadata": {},
   "outputs": [
    {
     "data": {
      "text/plain": [
       "(19949, 16)"
      ]
     },
     "execution_count": 11,
     "metadata": {},
     "output_type": "execute_result"
    }
   ],
   "source": [
    "grouped_archs[grouped_archs['val_score']['count'] > 1].shape"
   ]
  },
  {
   "cell_type": "code",
   "execution_count": 14,
   "metadata": {},
   "outputs": [
    {
     "data": {
      "text/plain": [
       "(248020, 16)"
      ]
     },
     "execution_count": 14,
     "metadata": {},
     "output_type": "execute_result"
    }
   ],
   "source": [
    "grouped_archs.shape"
   ]
  },
  {
   "cell_type": "code",
   "execution_count": 16,
   "metadata": {},
   "outputs": [
    {
     "data": {
      "text/plain": [
       "(308625, 8)"
      ]
     },
     "execution_count": 16,
     "metadata": {},
     "output_type": "execute_result"
    }
   ],
   "source": [
    "df.shape"
   ]
  },
  {
   "cell_type": "code",
   "execution_count": 15,
   "metadata": {},
   "outputs": [
    {
     "data": {
      "text/plain": [
       "0.08043302959438756"
      ]
     },
     "execution_count": 15,
     "metadata": {},
     "output_type": "execute_result"
    }
   ],
   "source": [
    "grouped_archs[grouped_archs['val_score']['count'] > 1].shape[0] / grouped_archs.shape[0]"
   ]
  },
  {
   "cell_type": "code",
   "execution_count": 23,
   "metadata": {},
   "outputs": [
    {
     "data": {
      "image/png": "[encoded data removed]",
      "text/plain": [
       "<Figure size 432x288 with 1 Axes>"
      ]
     },
     "metadata": {
      "needs_background": "light"
     },
     "output_type": "display_data"
    }
   ],
   "source": [
    "grouped_archs[grouped_archs['val_score']['count'] > 1]['val_score']['count'].plot.box()\n",
    "plt.show()"
   ]
  },
  {
   "cell_type": "code",
   "execution_count": 24,
   "metadata": {},
   "outputs": [
    {
     "data": {
      "text/plain": [
       "count    19949.000000\n",
       "mean         4.037997\n",
       "std          8.601699\n",
       "min          2.000000\n",
       "25%          2.000000\n",
       "50%          2.000000\n",
       "75%          3.000000\n",
       "max        142.000000\n",
       "Name: count, dtype: float64"
      ]
     },
     "execution_count": 24,
     "metadata": {},
     "output_type": "execute_result"
    }
   ],
   "source": [
    "grouped_archs[grouped_archs['val_score']['count'] > 1]['val_score']['count'].describe()"
   ]
  },
  {
   "cell_type": "code",
   "execution_count": 27,
   "metadata": {},
   "outputs": [
    {
     "data": {
      "text/plain": [
       "array([\"['generalized_linear', 'mean', 'elu', 4, 128, 'const', 'sum', 'relu6', 16, 7]\",\n",
       "       \"['cos', 'mean', 'linear', 6, 256, 'gat', 'mlp', 'leaky_relu', 2, 7]\",\n",
       "       \"['gcn', 'sum', 'relu', 2, 32, 'gat', 'sum', 'relu6', 2, 7]\",\n",
       "       \"['gcn', 'mlp', 'tanh', 16, 8, 'gat', 'sum', 'relu', 1, 7]\",\n",
       "       \"['gcn', 'mlp', 'relu6', 1, 32, 'gat', 'sum', 'elu', 1, 7]\"],\n",
       "      dtype=object)"
      ]
     },
     "execution_count": 27,
     "metadata": {},
     "output_type": "execute_result"
    }
   ],
   "source": [
    "df['arch'].head().values"
   ]
  },
  {
   "cell_type": "code",
   "execution_count": 30,
   "metadata": {},
   "outputs": [
    {
     "data": {
      "text/plain": [
       "154275"
      ]
     },
     "execution_count": 30,
     "metadata": {},
     "output_type": "execute_result"
    }
   ],
   "source": [
    "df[df['mode'] == 'macro'].shape[0]"
   ]
  },
  {
   "cell_type": "code",
   "execution_count": 114,
   "metadata": {},
   "outputs": [
    {
     "data": {
      "text/plain": [
       "9"
      ]
     },
     "execution_count": 114,
     "metadata": {},
     "output_type": "execute_result"
    }
   ],
   "source": [
    "macro_search_space = {'attention_type': ['gat', 'gcn', 'cos', 'const', 'gat_sym', 'linear', 'generalized_linear'],\n",
    "                      'aggregator_type': ['sum', 'mean', 'max', 'mlp'],\n",
    "                      'activate_function': ['sigmoid', 'tanh', 'relu', 'linear', 'softplus', 'leaky_relu', 'relu6', 'elu'],\n",
    "                      'number_of_heads': [1, 2, 4, 6, 8, 16],\n",
    "                      'hidden_units': [4, 8, 16, 32, 64, 128, 256]}\n",
    "macro_action_list = ['attention_type',\n",
    "                     'aggregator_type',\n",
    "                     'activate_function',\n",
    "                     'number_of_heads',\n",
    "                     'hidden_units',\n",
    "                     'attention_type',\n",
    "                     'aggregator_type',\n",
    "                     'activate_function',\n",
    "                     'number_of_heads',\n",
    "                     'hidden_units']\n",
    "categories = [macro_search_space[action] for action in macro_action_list[:-1]]\n",
    "len(categories)"
   ]
  },
  {
   "cell_type": "code",
   "execution_count": 19,
   "metadata": {},
   "outputs": [],
   "source": [
    "from sklearn.preprocessing import OneHotEncoder"
   ]
  },
  {
   "cell_type": "code",
   "execution_count": 116,
   "metadata": {},
   "outputs": [
    {
     "name": "stdout",
     "output_type": "stream",
     "text": [
      "last_column_values: [3, 5, 6, 7, 8, 10, 15]\n"
     ]
    }
   ],
   "source": [
    "macro_only_archs = pd.read_csv('macro_only_archs.csv',\n",
    "                               header=None)\n",
    "last_column_values = sorted(list(macro_only_archs[9].unique()))\n",
    "print('last_column_values:', last_column_values)\n",
    "categories.append(last_column_values)\n",
    "enc = OneHotEncoder(handle_unknown='ignore', categories=categories)\n",
    "X = enc.fit_transform(macro_only_archs.values)"
   ]
  },
  {
   "cell_type": "code",
   "execution_count": 117,
   "metadata": {},
   "outputs": [
    {
     "data": {
      "text/html": [
       "<div>\n",
       "<style scoped>\n",
       "    .dataframe tbody tr th:only-of-type {\n",
       "        vertical-align: middle;\n",
       "    }\n",
       "\n",
       "    .dataframe tbody tr th {\n",
       "        vertical-align: top;\n",
       "    }\n",
       "\n",
       "    .dataframe thead th {\n",
       "        text-align: right;\n",
       "    }\n",
       "</style>\n",
       "<table border=\"1\" class=\"dataframe\">\n",
       "  <thead>\n",
       "    <tr style=\"text-align: right;\">\n",
       "      <th></th>\n",
       "      <th>0</th>\n",
       "      <th>1</th>\n",
       "      <th>2</th>\n",
       "      <th>3</th>\n",
       "      <th>4</th>\n",
       "      <th>5</th>\n",
       "      <th>6</th>\n",
       "      <th>7</th>\n",
       "      <th>8</th>\n",
       "      <th>9</th>\n",
       "    </tr>\n",
       "  </thead>\n",
       "  <tbody>\n",
       "    <tr>\n",
       "      <th>0</th>\n",
       "      <td>generalized_linear</td>\n",
       "      <td>mean</td>\n",
       "      <td>elu</td>\n",
       "      <td>4</td>\n",
       "      <td>128</td>\n",
       "      <td>const</td>\n",
       "      <td>sum</td>\n",
       "      <td>relu6</td>\n",
       "      <td>16</td>\n",
       "      <td>7</td>\n",
       "    </tr>\n",
       "    <tr>\n",
       "      <th>1</th>\n",
       "      <td>cos</td>\n",
       "      <td>mean</td>\n",
       "      <td>linear</td>\n",
       "      <td>6</td>\n",
       "      <td>256</td>\n",
       "      <td>gat</td>\n",
       "      <td>mlp</td>\n",
       "      <td>leaky_relu</td>\n",
       "      <td>2</td>\n",
       "      <td>7</td>\n",
       "    </tr>\n",
       "    <tr>\n",
       "      <th>2</th>\n",
       "      <td>gcn</td>\n",
       "      <td>sum</td>\n",
       "      <td>relu</td>\n",
       "      <td>2</td>\n",
       "      <td>32</td>\n",
       "      <td>gat</td>\n",
       "      <td>sum</td>\n",
       "      <td>relu6</td>\n",
       "      <td>2</td>\n",
       "      <td>7</td>\n",
       "    </tr>\n",
       "    <tr>\n",
       "      <th>3</th>\n",
       "      <td>gcn</td>\n",
       "      <td>mlp</td>\n",
       "      <td>tanh</td>\n",
       "      <td>16</td>\n",
       "      <td>8</td>\n",
       "      <td>gat</td>\n",
       "      <td>sum</td>\n",
       "      <td>relu</td>\n",
       "      <td>1</td>\n",
       "      <td>7</td>\n",
       "    </tr>\n",
       "    <tr>\n",
       "      <th>4</th>\n",
       "      <td>gcn</td>\n",
       "      <td>mlp</td>\n",
       "      <td>relu6</td>\n",
       "      <td>1</td>\n",
       "      <td>32</td>\n",
       "      <td>gat</td>\n",
       "      <td>sum</td>\n",
       "      <td>elu</td>\n",
       "      <td>1</td>\n",
       "      <td>7</td>\n",
       "    </tr>\n",
       "  </tbody>\n",
       "</table>\n",
       "</div>"
      ],
      "text/plain": [
       "                    0     1       2   3    4      5    6           7   8  9\n",
       "0  generalized_linear  mean     elu   4  128  const  sum       relu6  16  7\n",
       "1                 cos  mean  linear   6  256    gat  mlp  leaky_relu   2  7\n",
       "2                 gcn   sum    relu   2   32    gat  sum       relu6   2  7\n",
       "3                 gcn   mlp    tanh  16    8    gat  sum        relu   1  7\n",
       "4                 gcn   mlp   relu6   1   32    gat  sum         elu   1  7"
      ]
     },
     "execution_count": 117,
     "metadata": {},
     "output_type": "execute_result"
    }
   ],
   "source": [
    "macro_only_archs.head()"
   ]
  },
  {
   "cell_type": "code",
   "execution_count": 118,
   "metadata": {},
   "outputs": [
    {
     "data": {
      "text/plain": [
       "matrix([[0., 0., 0., 0., 0., 0., 1., 0., 1., 0., 0., 0., 0., 0., 0., 0.,\n",
       "         0., 0., 1., 0., 0., 1., 0., 0., 0., 0., 0., 0., 0., 0., 1., 0.,\n",
       "         0., 0., 0., 1., 0., 0., 0., 1., 0., 0., 0., 0., 0., 0., 0., 0.,\n",
       "         0., 1., 0., 0., 0., 0., 0., 0., 1., 0., 0., 0., 1., 0., 0., 0.]])"
      ]
     },
     "execution_count": 118,
     "metadata": {},
     "output_type": "execute_result"
    }
   ],
   "source": [
    "X[0, :].todense()"
   ]
  },
  {
   "cell_type": "code",
   "execution_count": 32,
   "metadata": {},
   "outputs": [],
   "source": [
    "import scipy"
   ]
  },
  {
   "cell_type": "code",
   "execution_count": 122,
   "metadata": {},
   "outputs": [],
   "source": [
    "scipy.sparse.save_npz('one_hot_encoded_macro_archs.npz', X)"
   ]
  },
  {
   "cell_type": "code",
   "execution_count": null,
   "metadata": {},
   "outputs": [],
   "source": [
    "from sklearn.manifold import TSNE\n",
    "X_embedded = TSNE(n_components=2).fit_transform(X.toarray())"
   ]
  },
  {
   "cell_type": "code",
   "execution_count": 128,
   "metadata": {},
   "outputs": [],
   "source": [
    "np.savetxt('tsne_embedded_macro_archs.csv', X_embedded, delimiter=',')"
   ]
  },
  {
   "cell_type": "code",
   "execution_count": 129,
   "metadata": {},
   "outputs": [],
   "source": [
    "from sklearn.decomposition import TruncatedSVD\n",
    "X_SVD_embedded = TruncatedSVD(n_components=2, random_state=42).fit_transform(X)"
   ]
  },
  {
   "cell_type": "code",
   "execution_count": 131,
   "metadata": {},
   "outputs": [],
   "source": [
    "np.savetxt('svd_embedded_macro_archs.csv', X_SVD_embedded, delimiter=',')"
   ]
  },
  {
   "cell_type": "code",
   "execution_count": 149,
   "metadata": {},
   "outputs": [],
   "source": [
    "%matplotlib inline\n",
    "import matplotlib.pyplot as plt\n",
    "from mpl_toolkits.mplot3d import Axes3D"
   ]
  },
  {
   "cell_type": "code",
   "execution_count": 150,
   "metadata": {},
   "outputs": [
    {
     "data": {
      "text/plain": [
       "<mpl_toolkits.mplot3d.art3d.Poly3DCollection at 0x7ffb631904e0>"
      ]
     },
     "execution_count": 150,
     "metadata": {},
     "output_type": "execute_result"
    },
    {
     "data": {
      "image/png": "[encoded data removed]",
      "text/plain": [
       "<Figure size 432x288 with 1 Axes>"
      ]
     },
     "metadata": {
      "needs_background": "light"
     },
     "output_type": "display_data"
    }
   ],
   "source": [
    "fig = plt.figure()\n",
    "ax = fig.add_subplot(111, projection='3d')\n",
    "assert(X_embedded[:, 0].shape == X_embedded[:, 1].shape)\n",
    "assert(X_embedded[:, 0].shape == df[df['mode'] == 'macro']['val_score'].values.shape)\n",
    "ax.plot_trisurf(X_embedded[:, 0],\n",
    "                X_embedded[:, 1],\n",
    "                df[df['mode'] == 'macro']['val_score'])\n"
   ]
  },
  {
   "cell_type": "code",
   "execution_count": 13,
   "metadata": {},
   "outputs": [
    {
     "name": "stderr",
     "output_type": "stream",
     "text": [
      "/home/math/jupyterenv/lib/python3.6/site-packages/ipykernel_launcher.py:1: FutureWarning: The signature of `Series.to_csv` was aligned to that of `DataFrame.to_csv`, and argument 'header' will change its default value from False to True: please pass an explicit value to suppress this warning.\n",
      "  \"\"\"Entry point for launching an IPython kernel.\n"
     ]
    }
   ],
   "source": [
    "df[df['mode'] == 'micro']['arch'].apply(lambda x: eval(x)['action'] + eval(x)['hyper_param']).to_csv('micro_only_archs.csv', index=False)"
   ]
  },
  {
   "cell_type": "code",
   "execution_count": 27,
   "metadata": {},
   "outputs": [],
   "source": [
    "micro_only_archs = pd.read_csv('micro_only_archs.csv',\n",
    "                               header=None)"
   ]
  },
  {
   "cell_type": "code",
   "execution_count": 17,
   "metadata": {},
   "outputs": [],
   "source": [
    "# Micro search space\n",
    "micro_search_space = {\n",
    "'gnn_list': [\n",
    "    \"gat_8\", \"gat_6\", \"gat_4\", \"gat_2\", \"gat_1\",\n",
    "    \"gcn\", \"cheb\", \"sage\", \"arma\", \"sg\", \"linear\", \"zero\",\n",
    "],\n",
    "'act_list': [\n",
    "    \"sigmoid\", \"tanh\", \"relu\", \"linear\", \"elu\"\n",
    "],\n",
    "'self_index': [0, 1, 2],\n",
    "'concat_type': [\"add\", \"product\", \"concat\"],\n",
    "'learning_rate': sorted([1e-4, 5e-4, 1e-3, 5e-3, 1e-2]),\n",
    "'dropout': [0.0, 0.1, 0.2, 0.3, 0.4, 0.5, 0.6, 0.7, 0.8, 0.9],\n",
    "'weight_decay': sorted([0, 1e-3, 1e-4, 1e-5, 5e-5, 5e-4]),\n",
    "'hidden_unit': [8, 16, 32, 64, 128, 256, 512],\n",
    "}\n",
    "micro_action_list = [\n",
    "    'self_index',\n",
    "    'gnn_list',\n",
    "    'self_index',\n",
    "    'gnn_list',\n",
    "    'act_list',\n",
    "    'concat_type',\n",
    "    'learning_rate',\n",
    "    'dropout',\n",
    "    'weight_decay',\n",
    "    'hidden_unit'\n",
    "]"
   ]
  },
  {
   "cell_type": "code",
   "execution_count": 28,
   "metadata": {},
   "outputs": [],
   "source": [
    "categories = [micro_search_space[action] for action in micro_action_list]\n",
    "enc = OneHotEncoder(handle_unknown='ignore', categories=categories)"
   ]
  },
  {
   "cell_type": "code",
   "execution_count": 29,
   "metadata": {},
   "outputs": [],
   "source": [
    "X = enc.fit_transform(micro_only_archs.values)"
   ]
  },
  {
   "cell_type": "code",
   "execution_count": 30,
   "metadata": {},
   "outputs": [
    {
     "data": {
      "text/plain": [
       "array([[0., 1., 0., 0., 0., 0., 0., 0., 1., 0., 0., 0., 0., 0., 0., 0.,\n",
       "        0., 1., 0., 0., 0., 0., 1., 0., 0., 0., 0., 0., 0., 0., 0., 0.,\n",
       "        0., 0., 1., 0., 1., 0., 0., 0., 0., 0., 1., 0., 0., 0., 0., 0.,\n",
       "        0., 0., 0., 1., 0., 0., 0., 0., 0., 1., 0., 0., 1., 0., 0., 0.,\n",
       "        0., 0.]])"
      ]
     },
     "execution_count": 30,
     "metadata": {},
     "output_type": "execute_result"
    }
   ],
   "source": [
    "X[0, :].toarray()"
   ]
  },
  {
   "cell_type": "code",
   "execution_count": 33,
   "metadata": {},
   "outputs": [],
   "source": [
    "scipy.sparse.save_npz('one_hot_encoded_micro_archs.npz', X)"
   ]
  },
  {
   "cell_type": "code",
   "execution_count": null,
   "metadata": {},
   "outputs": [],
   "source": [
    "import hypertools as hyp\n",
    "from sklearn import datasets"
   ]
  },
  {
   "cell_type": "code",
   "execution_count": null,
   "metadata": {},
   "outputs": [],
   "source": [
    "digits = datasets.load_digits(n_class=6)\n",
    "data = digits.data\n",
    "hue = digits.target.astype('str')\n",
    "\n",
    "hyp.plot(data, '.', reduce='TSNE', hue=hue, ndims=2)"
   ]
  }
 ],
 "metadata": {
  "kernelspec": {
   "display_name": "Python 3",
   "language": "python",
   "name": "python3"
  },
  "language_info": {
   "codemirror_mode": {
    "name": "ipython",
    "version": 3
   },
   "file_extension": ".py",
   "mimetype": "text/x-python",
   "name": "python",
   "nbconvert_exporter": "python",
   "pygments_lexer": "ipython3",
   "version": "3.8.2"
  }
 },
 "nbformat": 4,
 "nbformat_minor": 2
}
